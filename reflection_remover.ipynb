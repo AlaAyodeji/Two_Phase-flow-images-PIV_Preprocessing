{
 "cells": [
  {
   "cell_type": "code",
   "execution_count": 1,
   "metadata": {},
   "outputs": [],
   "source": [
    "# Import needed libraries\n",
    "import cv2 as cv\n",
    "import numpy as np\n",
    "import matplotlib.pyplot as plt\n",
    "import glob\n",
    "import os"
   ]
  },
  {
   "cell_type": "code",
   "execution_count": 2,
   "metadata": {},
   "outputs": [],
   "source": [
    "def readImages(images_path):\n",
    "    \"\"\"\n",
    "    readImages creates an array of images to be worked on.\n",
    "    Args:\n",
    "        images_path: path to where images are stored, not forgetting image format\n",
    "        example: ../../*.bmp or ../../*.jpg, * indicating any filename with the following format\n",
    "    \"\"\"  \n",
    "    img_array = []\n",
    "    print('Reading images ...')\n",
    "    for filename in glob.glob(images_path):\n",
    "        img = cv.imread(filename)\n",
    "        img_array.append(img)\n",
    "    print('Images read successfully.')\n",
    "    return img_array"
   ]
  },
  {
   "cell_type": "code",
   "execution_count": 3,
   "metadata": {},
   "outputs": [],
   "source": [
    "def reflectionRemover(images_array, threshold_value = 20, reflection_size = 250):\n",
    "    \"\"\"\n",
    "    reflectionRemover removes reflections from PIV images that affects results of work.\n",
    "    Args:\n",
    "        images_array: an array of all PIV images to be worked on\n",
    "        threshold_value: threshold value for blob detection and removal, default value is 20\n",
    "        reflection_size: size of blob in terms of pixels to be removed, default value is 250 \n",
    "    \n",
    "    \"\"\"\n",
    "    print(\"Removing reflections ...\")\n",
    "    results = []\n",
    "    for img in images_array:\n",
    "        # Convert image to grayscale\n",
    "        frame_gray = cv.cvtColor(img, cv.COLOR_BGR2GRAY)\n",
    "\n",
    "        # Extract blobs\n",
    "        ret,thresh = cv.threshold(frame_gray,threshold_value,255,cv.THRESH_BINARY) # distinguishing the pixel intensity\n",
    "        contours, hierarchy = cv.findContours(thresh,cv.RETR_EXTERNAL,cv.CHAIN_APPROX_NONE)\n",
    "\n",
    "        # Distinguish bubbles and reflections\n",
    "        bubbles = []\n",
    "        for keyvector in contours:\n",
    "            if keyvector.size > reflection_size:\n",
    "                bubbles.append(keyvector)\n",
    "\n",
    "        # Remove bubbles and reflections\n",
    "        image = img.copy()\n",
    "        results_image = cv.drawContours(image, bubbles, -1, (0,0,0), -1)\n",
    "\n",
    "        # Store results\n",
    "        results.append(results_image)\n",
    "\n",
    "    print(\"Reflection removal completed successfuly.\")\n",
    "    return results\n",
    "\n"
   ]
  },
  {
   "cell_type": "code",
   "execution_count": 5,
   "metadata": {},
   "outputs": [],
   "source": [
    "def folder(name):\n",
    "    \"\"\"\n",
    "    This function creates folders and takes foldername as input.\n",
    "    Args:\n",
    "        name: User defined folder \n",
    "        \n",
    "    \"\"\"\n",
    "    try:\n",
    "        if not os.path.exists(name):\n",
    "            os.mkdir(name)\n",
    "    except OSError:\n",
    "        print('Error: Creating directory of ', name)\n",
    "    return"
   ]
  },
  {
   "cell_type": "code",
   "execution_count": 6,
   "metadata": {},
   "outputs": [],
   "source": [
    "def resultSaver(results_array, foldername):\n",
    "    \"\"\"\n",
    "    resultSaver is used to save an array of images onto to the computer in a folder named Output.\n",
    "\n",
    "    Args:\n",
    "        results_array: this is an array of the resulting images after reflection removal\n",
    "    \n",
    "    \"\"\"\n",
    "    print(\"Saving resulting images to Output folder ...\")\n",
    "    counter = 0\n",
    "    for result in results_array:\n",
    "        file_name = foldername + \"/Output\" + str(counter) + \".jpg\"\n",
    "        cv.imwrite(file_name, result)\n",
    "        counter += 1\n",
    "    print(\"Saving resulting images to Output folder completed successfuly.\")\n",
    "    return"
   ]
  },
  {
   "cell_type": "code",
   "execution_count": 7,
   "metadata": {},
   "outputs": [],
   "source": [
    "# Creat Output folder with user defined name\n",
    "foldername = \"PIV\"\n",
    "folder(foldername)"
   ]
  },
  {
   "cell_type": "code",
   "execution_count": 8,
   "metadata": {},
   "outputs": [
    {
     "name": "stdout",
     "output_type": "stream",
     "text": [
      "Reading images ...\n",
      "Images read successfully.\n"
     ]
    }
   ],
   "source": [
    "# read images into one array \n",
    "img_array = readImages(\"*.bmp\")"
   ]
  },
  {
   "cell_type": "code",
   "execution_count": 9,
   "metadata": {},
   "outputs": [
    {
     "name": "stdout",
     "output_type": "stream",
     "text": [
      "Removing reflections ...\n",
      "Reflection removal completed successfuly.\n"
     ]
    }
   ],
   "source": [
    "# Reflection removal\n",
    "res_array = reflectionRemover(img_array, 30, 280)"
   ]
  },
  {
   "cell_type": "code",
   "execution_count": 10,
   "metadata": {},
   "outputs": [
    {
     "name": "stdout",
     "output_type": "stream",
     "text": [
      "Saving resulting images to Output folder ...\n",
      "Saving resulting images to Output folder completed successfuly.\n"
     ]
    }
   ],
   "source": [
    "# Save resulting images\n",
    "resultSaver(res_array, foldername)"
   ]
  },
  {
   "cell_type": "code",
   "execution_count": null,
   "metadata": {},
   "outputs": [],
   "source": []
  }
 ],
 "metadata": {
  "kernelspec": {
   "display_name": "Dr._Ala-B-JflTiL",
   "language": "python",
   "name": "python3"
  },
  "language_info": {
   "codemirror_mode": {
    "name": "ipython",
    "version": 3
   },
   "file_extension": ".py",
   "mimetype": "text/x-python",
   "name": "python",
   "nbconvert_exporter": "python",
   "pygments_lexer": "ipython3",
   "version": "3.11.8"
  }
 },
 "nbformat": 4,
 "nbformat_minor": 2
}
